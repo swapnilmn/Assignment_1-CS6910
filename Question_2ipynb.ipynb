{
  "nbformat": 4,
  "nbformat_minor": 0,
  "metadata": {
    "colab": {
      "provenance": [],
      "authorship_tag": "ABX9TyOFPLlWhhcg+qyHKnd/l9Xy",
      "include_colab_link": true
    },
    "kernelspec": {
      "name": "python3",
      "display_name": "Python 3"
    },
    "language_info": {
      "name": "python"
    }
  },
  "cells": [
    {
      "cell_type": "markdown",
      "metadata": {
        "id": "view-in-github",
        "colab_type": "text"
      },
      "source": [
        "<a href=\"https://colab.research.google.com/github/swapnilmn/Assignment_1-CS6910/blob/master/Question_2ipynb.ipynb\" target=\"_parent\"><img src=\"https://colab.research.google.com/assets/colab-badge.svg\" alt=\"Open In Colab\"/></a>"
      ]
    },
    {
      "cell_type": "markdown",
      "source": [
        "# 2. Implement a feedforward neural network which takes images from the fashion-mnist data as input and outputs a probability distribution over the 10 classes.\n",
        "\n",
        "Your code should be flexible such that it is easy to change the number of hidden layers and the number of neurons in each hidden layer."
      ],
      "metadata": {
        "id": "v0Q5opYMgYb-"
      }
    },
    {
      "cell_type": "markdown",
      "source": [
        "# Libraries "
      ],
      "metadata": {
        "id": "_dP0oEKrgmQc"
      }
    },
    {
      "cell_type": "code",
      "execution_count": 1,
      "metadata": {
        "id": "CZcFz8GygBp5"
      },
      "outputs": [],
      "source": [
        "from keras.datasets import fashion_mnist, mnist\n",
        "import numpy as np\n",
        "import matplotlib.pyplot as plt\n",
        "import math\n",
        "import copy\n",
        "from sklearn.model_selection import train_test_split \n",
        "import pickle\n",
        "import pandas as pd\n",
        "import os\n",
        "from tqdm import tqdm_notebook \n",
        "from sklearn.preprocessing import OneHotEncoder"
      ]
    },
    {
      "cell_type": "code",
      "source": [
        "def preprocess(data):\n",
        "    if data == 'fashion_mnist':\n",
        "        (train_images, train_labels), (test_images, test_labels) = fashion_mnist.load_data()\n",
        "    elif data == 'mnist':\n",
        "        (train_images, train_labels), (test_images, test_labels) = mnist.load_data()\n",
        "    else:\n",
        "        raise ValueError('Invalid dataset name')\n",
        "\n",
        "    X_train, X_val, Y_train, Y_val = train_test_split(train_images, train_labels, test_size=0.1, random_state=42)\n",
        "    X_train = X_train / 255.0\n",
        "    X_val = X_val / 255.0\n",
        "    X_test = test_images / 255.0\n",
        "\n",
        "    def flatten_images(images):\n",
        "        return np.array([image.flatten() for image in images])\n",
        "\n",
        "    X_train = flatten_images(X_train)\n",
        "    X_val = flatten_images(X_val)\n",
        "    X_test = flatten_images(test_images)\n",
        "\n",
        "    enc = OneHotEncoder()\n",
        "    Y_train = enc.fit_transform(np.expand_dims(Y_train, 1))\n",
        "    Y_val = enc.transform(np.expand_dims(Y_val, 1))\n",
        "    Y_test = enc.transform(np.expand_dims(test_labels, 1))\n",
        "\n",
        "    return X_train, X_val, X_test, Y_train, Y_val, Y_test\n",
        "\n",
        "\n",
        "X_train, X_val, X_test, Y_train, Y_val, Y_test = preprocess('fashion_mnist')\n",
        "\n",
        "#X_train, X_val, X_test, Y_train, Y_val, Y_test = X_train[0:100, :], X_val[0:10, :], X_test[0:30, :], Y_train[0:100, :], Y_val[0:10, :], Y_test[0:30, :]\n",
        "print(Y_train.shape, Y_val.shape, Y_test.shape)\n",
        "print(X_train.shape, X_val.shape, X_test.shape)"
      ],
      "metadata": {
        "colab": {
          "base_uri": "https://localhost:8080/"
        },
        "id": "WrLcGXP5QTUp",
        "outputId": "30f4e26c-6c1f-4a3f-93c2-2e598887fcee"
      },
      "execution_count": 2,
      "outputs": [
        {
          "output_type": "stream",
          "name": "stdout",
          "text": [
            "(54000, 10) (6000, 10) (10000, 10)\n",
            "(54000, 784) (6000, 784) (10000, 784)\n"
          ]
        }
      ]
    },
    {
      "cell_type": "code",
      "source": [
        "\n",
        "no_classes = 10\n",
        "\n",
        "config_ = {\n",
        "    'size_hidden_layers': [32, 64, 128, 256],\n",
        "    'activation': 'tanh',\n",
        "    'weight_initializations': \"Xavier\",\n",
        "}\n",
        "\n",
        "config_['no_hidden_layers'] = len(config_['size_hidden_layers'])\n",
        "\n",
        "class FFNetwork:\n",
        "  def __init__(self, X, Y, \n",
        "               num_outputs=no_classes,\n",
        "               activation=config_['activation'],\n",
        "               weight_init=config_['weight_initializations'],\n",
        "               no_hidden_layers = config_['no_hidden_layers'],\n",
        "               hidden_layers =  config_['size_hidden_layers']):\n",
        "    self.nx = X.shape[1] # Number of inputs\n",
        "    self.ny = Y.shape[1] # Number of outputs\n",
        "    self.nh = no_hidden_layers  # Number of hidden layers\n",
        "    self.sizes = [self.nx] + hidden_layers + [self.ny] # input layer + hidden layers + output layers\n",
        "    self.params={}\n",
        "    self.params_h = []\n",
        "    self.num_classes = num_outputs\n",
        "    self.weight_init = weight_init\n",
        "    self.activation_function = activation\n",
        "    np.random.seed(0)\n",
        "    \n",
        "    if self.weight_init == \"random\":\n",
        "      for i in range(1,self.nh+2):\n",
        "        self.params[\"W\"+str(i)] = np.random.randn(self.sizes[i-1],self.sizes[i])\n",
        "        self.params[\"B\"+str(i)] = np.random.randn(1,self.sizes[i])\n",
        "    \n",
        "    elif self.weight_init == \"Xavier\":\n",
        "      for i in range(1,self.nh+2):\n",
        "        self.params[\"W\"+str(i)]=np.random.randn(self.sizes[i-1],self.sizes[i])*np.sqrt(1/self.sizes[i-1])\n",
        "        self.params[\"B\"+str(i)]=np.random.randn(1,self.sizes[i])\n",
        "\n",
        "  \n",
        "  def forward_activation(self, X): \n",
        "    if self.activation_function == \"sigmoid\":\n",
        "      return 1.0/(1.0 + np.exp(-X))\n",
        "    elif self.activation_function == \"tanh\":\n",
        "      return np.tanh(X)\n",
        "    elif self.activation_function == \"Relu\":\n",
        "      return np.maximum(0,X)\n",
        "\n",
        "  def softmax(self, X):\n",
        "    exps = np.exp(X - np.max(X, axis=1, keepdims=True))\n",
        "    return  exps / np.sum(exps, axis=1, keepdims=True)\n",
        "  \n",
        "  def forward_pass(self, X, params=None):\n",
        "    if params is None:\n",
        "        params = self.params\n",
        "    self.A = {}\n",
        "    self.H = {}\n",
        "    self.H[0] = X\n",
        "    for i in range(self.nh):\n",
        "        self.A[i+1] = np.matmul(self.H[i], params[f\"W{i+1}\"]) + params[f\"B{i+1}\"]\n",
        "        self.H[i+1] = self.forward_activation(self.A[i+1])\n",
        "    self.A[self.nh+1] = np.matmul(self.H[self.nh], params[f\"W{self.nh+1}\"]) + params[f\"B{self.nh+1}\"]\n",
        "    self.H[self.nh+1] = self.softmax(self.A[self.nh+1])\n",
        "    return self.H[self.nh+1]\n",
        "\n",
        "\n",
        "model = FFNetwork(X_train, Y_train,\n",
        "                  num_outputs=no_classes,\n",
        "                  activation=config_['activation'],\n",
        "                  weight_init=config_['weight_initializations'],\n",
        "                  no_hidden_layers = config_['no_hidden_layers'],\n",
        "                  hidden_layers =  config_['size_hidden_layers'])\n",
        "model.forward_pass(X_train)[0]"
      ],
      "metadata": {
        "id": "dgYIbPp6SLL5",
        "outputId": "4531981a-f155-4d17-939b-936830081ed7",
        "colab": {
          "base_uri": "https://localhost:8080/"
        }
      },
      "execution_count": 3,
      "outputs": [
        {
          "output_type": "execute_result",
          "data": {
            "text/plain": [
              "array([0.0163483 , 0.06188866, 0.07630141, 0.3604386 , 0.13119604,\n",
              "       0.03389549, 0.12472596, 0.05018947, 0.10003386, 0.0449822 ])"
            ]
          },
          "metadata": {},
          "execution_count": 3
        }
      ]
    }
  ]
}