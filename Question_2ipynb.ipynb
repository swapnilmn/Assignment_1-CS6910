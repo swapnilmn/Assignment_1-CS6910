{
  "nbformat": 4,
  "nbformat_minor": 0,
  "metadata": {
    "colab": {
      "provenance": [],
      "authorship_tag": "ABX9TyOeGdiM1ldn4NEnEgE8pvu2",
      "include_colab_link": true
    },
    "kernelspec": {
      "name": "python3",
      "display_name": "Python 3"
    },
    "language_info": {
      "name": "python"
    }
  },
  "cells": [
    {
      "cell_type": "markdown",
      "metadata": {
        "id": "view-in-github",
        "colab_type": "text"
      },
      "source": [
        "<a href=\"https://colab.research.google.com/github/swapnilmn/Assignment_1-CS6910/blob/master/Question_2ipynb.ipynb\" target=\"_parent\"><img src=\"https://colab.research.google.com/assets/colab-badge.svg\" alt=\"Open In Colab\"/></a>"
      ]
    },
    {
      "cell_type": "markdown",
      "source": [
        "# 2. Implement a feedforward neural network which takes images from the fashion-mnist data as input and outputs a probability distribution over the 10 classes.\n",
        "\n",
        "Your code should be flexible such that it is easy to change the number of hidden layers and the number of neurons in each hidden layer."
      ],
      "metadata": {
        "id": "v0Q5opYMgYb-"
      }
    },
    {
      "cell_type": "markdown",
      "source": [
        "# Libraries "
      ],
      "metadata": {
        "id": "_dP0oEKrgmQc"
      }
    },
    {
      "cell_type": "code",
      "execution_count": 4,
      "metadata": {
        "id": "CZcFz8GygBp5"
      },
      "outputs": [],
      "source": [
        "from keras.datasets import fashion_mnist, mnist\n",
        "import numpy as np\n",
        "import matplotlib.pyplot as plt\n",
        "import math\n",
        "import copy\n",
        "from sklearn.model_selection import train_test_split \n",
        "import pickle\n",
        "import pandas as pd\n",
        "import os\n",
        "from tqdm import tqdm_notebook \n",
        "from sklearn.preprocessing import OneHotEncoder"
      ]
    },
    {
      "cell_type": "code",
      "source": [
        "def preprocess(data):\n",
        "\n",
        "    if data == 'fashion_mnist':\n",
        "        (train_images, train_labels), (test_images, test_labels) = fashion_mnist.load_data()\n",
        "    elif data == 'mnist':\n",
        "        (train_images, train_labels), (test_images, test_labels) = mnist.load_data()\n",
        "    else:\n",
        "        raise ValueError('Invalid dataset name')\n",
        "\n",
        "    X_train, X_val, Y_train, Y_val = train_test_split(train_images, train_labels, test_size=0.1, random_state=42)\n",
        "    X_train= X_train / 255.0\n",
        "    X_val =X_val / 255.0\n",
        "    X_test = test_images / 255.0\n",
        "    X_train= X_train.reshape(len(X_train), -1)\n",
        "    X_val =X_val.reshape(len(X_val), -1)\n",
        "    X_test=X_test.reshape(len(X_test), -1)\n",
        "    enc = OneHotEncoder()\n",
        "    Y_train =enc.fit_transform(np.expand_dims(Y_train, 1)).toarray()\n",
        "    Y_val =enc.transform(np.expand_dims(Y_val, 1)).toarray()\n",
        "    Y_test= enc.transform(np.expand_dims(test_labels, 1)).toarray()\n",
        "    return X_train, X_val, X_test, Y_train, Y_val, Y_test\n",
        "X_train, X_val, X_test, Y_train, Y_val, Y_test = preprocess('fashion_mnist')\n",
        "\n",
        "#X_train, X_val, X_test, Y_train, Y_val, Y_test = X_train[0:100, :], X_val[0:10, :], X_test[0:30, :], Y_train[0:100, :], Y_val[0:10, :], Y_test[0:30, :]\n",
        "print(Y_train.shape, Y_val.shape, Y_test.shape)\n",
        "print(X_train.shape, X_val.shape, X_test.shape)"
      ],
      "metadata": {
        "id": "WrLcGXP5QTUp",
        "outputId": "a3c715c0-afec-47c3-934a-984115ecbc91",
        "colab": {
          "base_uri": "https://localhost:8080/"
        }
      },
      "execution_count": 6,
      "outputs": [
        {
          "output_type": "stream",
          "name": "stdout",
          "text": [
            "(54000, 10) (6000, 10) (10000, 10)\n",
            "(54000, 784) (6000, 784) (10000, 784)\n"
          ]
        }
      ]
    }
  ]
}